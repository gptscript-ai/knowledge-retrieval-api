{
 "cells": [
  {
   "cell_type": "code",
   "execution_count": 3,
   "metadata": {},
   "outputs": [],
   "source": [
    "import sys\n",
    "import os\n",
    "mod_root = os.path.abspath(os.path.join(os.getcwd(), '..'))\n",
    "sys.path.append(mod_root)\n",
    "sys.path = list(set(sys.path))\n",
    "from config import settings"
   ]
  },
  {
   "cell_type": "code",
   "execution_count": 4,
   "metadata": {},
   "outputs": [],
   "source": [
    "from database.db import get_session\n",
    "from database import models"
   ]
  },
  {
   "cell_type": "code",
   "execution_count": 5,
   "metadata": {},
   "outputs": [],
   "source": [
    "session = get_session()\n",
    "\n",
    "files = session.query(models.FileIndex).all()"
   ]
  },
  {
   "cell_type": "code",
   "execution_count": 17,
   "metadata": {},
   "outputs": [],
   "source": [
    "session = get_session()\n",
    "\n",
    "files = session.query(models.FileIndex).all()\n",
    "for f in files:\n",
    "    print(f\"{f.dataset}/{f.file_id}\")\n",
    "    print(\"----------\")\n",
    "    for d in f.documents:\n",
    "        print(f\"- {d.document_id}\")\n",
    "    print(\"----------\\n\")\n",
    "session.close()"
   ]
  }
 ],
 "metadata": {
  "kernelspec": {
   "display_name": ".venv",
   "language": "python",
   "name": "python3"
  },
  "language_info": {
   "codemirror_mode": {
    "name": "ipython",
    "version": 3
   },
   "file_extension": ".py",
   "mimetype": "text/x-python",
   "name": "python",
   "nbconvert_exporter": "python",
   "pygments_lexer": "ipython3",
   "version": "3.11.8"
  }
 },
 "nbformat": 4,
 "nbformat_minor": 2
}
